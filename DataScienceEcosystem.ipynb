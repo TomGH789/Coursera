{
 "cells": [
  {
   "cell_type": "markdown",
   "id": "78934f52-e696-4d88-9af3-6582dfc3a2be",
   "metadata": {},
   "source": [
    "# Data Science Tools and Ecosystem"
   ]
  },
  {
   "cell_type": "markdown",
   "id": "3b23b93b-1b94-4872-98c7-5a3761705828",
   "metadata": {},
   "source": [
    "## Author\n",
    "Tom"
   ]
  },
  {
   "cell_type": "markdown",
   "id": "3d1ff248-9d93-446f-971b-1957aa4702e0",
   "metadata": {},
   "source": [
    "**Objectives:**\n",
    "1. List popular languages for Data Science.\n",
    "2. List popular libraries for Data Science.\n",
    "3. Show examples of evaluating basic arithmetic expressions."
   ]
  },
  {
   "cell_type": "markdown",
   "id": "bf8baf8f-0713-459e-8125-389c134fd25f",
   "metadata": {},
   "source": [
    "In this notebook, Data Science Tools and Ecosystem are summarized."
   ]
  },
  {
   "cell_type": "markdown",
   "id": "ac0e9aee-c4c6-4b45-9bd4-4f9647dcdc3d",
   "metadata": {},
   "source": [
    "1. Julia\n",
    "2. Python\n",
    "3. R"
   ]
  },
  {
   "cell_type": "markdown",
   "id": "d074ea6f-5809-46a7-98c2-c36b361e2b5f",
   "metadata": {},
   "source": [
    "Some of the commonly used libraries used by Data Scientists include:\n",
    "1. NumPy\n",
    "2. Keras\n",
    "3. TensorFlow"
   ]
  },
  {
   "cell_type": "markdown",
   "id": "bb143feb-2f20-4009-8755-f31eade7007f",
   "metadata": {},
   "source": [
    "| Data Science Tools | \n",
    "|------|\n",
    "|   R Studio  | \n",
    "|   TensorFlow  | \n",
    "|   ApacheSpark  | "
   ]
  },
  {
   "cell_type": "markdown",
   "id": "7cd25880-4269-4aca-ad29-af201f2fb165",
   "metadata": {},
   "source": [
    "### Below are a few examples of evaluating arithmetic expressions in Python."
   ]
  },
  {
   "cell_type": "code",
   "execution_count": 3,
   "id": "4c38ef46-78a6-4145-b734-fcfb67e3ecb0",
   "metadata": {},
   "outputs": [
    {
     "data": {
      "text/plain": [
       "17"
      ]
     },
     "execution_count": 3,
     "metadata": {},
     "output_type": "execute_result"
    }
   ],
   "source": [
    "# This a simple arithmetic expression to mutiply then add integers\n",
    "\n",
    "(3*4)+5"
   ]
  },
  {
   "cell_type": "code",
   "execution_count": 12,
   "id": "2bd278cd-c784-4228-8bd1-e1895263bd39",
   "metadata": {},
   "outputs": [
    {
     "name": "stdout",
     "output_type": "stream",
     "text": [
      "3.3333333333333335 hours\n"
     ]
    }
   ],
   "source": [
    "# This will convert 200 minutes to hours by diving by 60.\n",
    "\n",
    "print(str(200/60) + ' hours')"
   ]
  },
  {
   "cell_type": "code",
   "execution_count": null,
   "id": "6a559332-ed84-4310-b419-0ae674177f22",
   "metadata": {},
   "outputs": [],
   "source": []
  }
 ],
 "metadata": {
  "kernelspec": {
   "display_name": "Python 3 (ipykernel)",
   "language": "python",
   "name": "python3"
  },
  "language_info": {
   "codemirror_mode": {
    "name": "ipython",
    "version": 3
   },
   "file_extension": ".py",
   "mimetype": "text/x-python",
   "name": "python",
   "nbconvert_exporter": "python",
   "pygments_lexer": "ipython3",
   "version": "3.9.13"
  }
 },
 "nbformat": 4,
 "nbformat_minor": 5
}
